{
 "cells": [
  {
   "cell_type": "code",
   "execution_count": 1,
   "id": "e1f880e1-4c36-49d3-a464-81460b0d1f83",
   "metadata": {},
   "outputs": [],
   "source": [
    "from datasets import load_dataset\n",
    "\n",
    "dataset = load_dataset('json', data_files='/home/uuz5szh/Desktop/test/code/codeGenerator/data/codetotest_train.jsonl')\n",
    "\n",
    "dataset = dataset['train'].train_test_split(test_size=0.1)\n"
   ]
  },
  {
   "cell_type": "code",
   "execution_count": 2,
   "id": "c73a6373-42b5-401c-8020-394066993cfd",
   "metadata": {},
   "outputs": [],
   "source": [
    "def formatting(example):\n",
    "    return f\"\"\"### C++ Function\n",
    "{example['source']}\n",
    "\n",
    "### Google Test\n",
    "{example['target']}\"\"\"\n"
   ]
  },
  {
   "cell_type": "code",
   "execution_count": 3,
   "id": "2dc4b271-26e1-404a-874b-a8390cf0c64f",
   "metadata": {},
   "outputs": [
    {
     "name": "stderr",
     "output_type": "stream",
     "text": [
      "The installed version of bitsandbytes was compiled without GPU support. 8-bit optimizers, 8-bit multiplication, and GPU quantization are unavailable.\n"
     ]
    },
    {
     "data": {
      "application/vnd.jupyter.widget-view+json": {
       "model_id": "eda2d52b03114c25a067d6fd10364067",
       "version_major": 2,
       "version_minor": 0
      },
      "text/plain": [
       "Map:   0%|          | 0/3138 [00:00<?, ? examples/s]"
      ]
     },
     "metadata": {},
     "output_type": "display_data"
    },
    {
     "data": {
      "application/vnd.jupyter.widget-view+json": {
       "model_id": "8afe34aed0034d6797e4fd51a93b012f",
       "version_major": 2,
       "version_minor": 0
      },
      "text/plain": [
       "Map:   0%|          | 0/349 [00:00<?, ? examples/s]"
      ]
     },
     "metadata": {},
     "output_type": "display_data"
    }
   ],
   "source": [
    "from transformers import AutoTokenizer, AutoModelForCausalLM, TrainingArguments, Trainer\n",
    "from peft import prepare_model_for_kbit_training, LoraConfig, get_peft_model\n",
    "from trl import SFTTrainer\n",
    "\n",
    "model_name = \"deepseek-ai/deepseek-coder-1.3b-instruct\"\n",
    "tokenizer = AutoTokenizer.from_pretrained(model_name, trust_remote_code=True)\n",
    "tokenizer.pad_token = tokenizer.eos_token \n",
    "\n",
    "model = AutoModelForCausalLM.from_pretrained(\n",
    "    model_name,\n",
    "    device_map=\"cpu\", \n",
    "    trust_remote_code=True\n",
    ")\n",
    "\n",
    "lora_config = LoraConfig(\n",
    "    r=8,\n",
    "    lora_alpha=16,\n",
    "    target_modules=[\"q_proj\", \"v_proj\"],\n",
    "    lora_dropout=0.05,\n",
    "    bias=\"none\",\n",
    "    task_type=\"CAUSAL_LM\"\n",
    ")\n",
    "model = get_peft_model(model, lora_config)\n",
    "\n",
    "def preprocess(example):\n",
    "    prompt = formatting(example)\n",
    "    return tokenizer(prompt, truncation=True, padding='max_length', max_length=64)\n",
    "\n",
    "tokenized = dataset.map(preprocess, remove_columns=dataset[\"train\"].column_names)"
   ]
  },
  {
   "cell_type": "code",
   "execution_count": 4,
   "id": "4f1504b3-5690-4782-8e31-42738a201b7b",
   "metadata": {},
   "outputs": [
    {
     "data": {
      "application/vnd.jupyter.widget-view+json": {
       "model_id": "3f0add6e3e844cb08849f92679e21f32",
       "version_major": 2,
       "version_minor": 0
      },
      "text/plain": [
       "Truncating train dataset:   0%|          | 0/20 [00:00<?, ? examples/s]"
      ]
     },
     "metadata": {},
     "output_type": "display_data"
    },
    {
     "data": {
      "application/vnd.jupyter.widget-view+json": {
       "model_id": "9c3af90cd67f45dfa4f84911842b716e",
       "version_major": 2,
       "version_minor": 0
      },
      "text/plain": [
       "Truncating eval dataset:   0%|          | 0/5 [00:00<?, ? examples/s]"
      ]
     },
     "metadata": {},
     "output_type": "display_data"
    },
    {
     "name": "stderr",
     "output_type": "stream",
     "text": [
      "No label_names provided for model class `PeftModelForCausalLM`. Since `PeftModel` hides base models input arguments, if label_names is not given, label_names can't be set automatically within `Trainer`. Note that empty label_names list will be used instead.\n",
      "/home/uuz5szh/Desktop/test/code/.venv/lib/python3.10/site-packages/torch/utils/data/dataloader.py:665: UserWarning: 'pin_memory' argument is set as true but no accelerator is found, then device pinned memory won't be used.\n",
      "  warnings.warn(warn_msg)\n"
     ]
    },
    {
     "data": {
      "text/html": [
       "\n",
       "    <div>\n",
       "      \n",
       "      <progress value='6' max='6' style='width:300px; height:20px; vertical-align: middle;'></progress>\n",
       "      [6/6 01:13, Epoch 3/3]\n",
       "    </div>\n",
       "    <table border=\"1\" class=\"dataframe\">\n",
       "  <thead>\n",
       " <tr style=\"text-align: left;\">\n",
       "      <th>Epoch</th>\n",
       "      <th>Training Loss</th>\n",
       "      <th>Validation Loss</th>\n",
       "    </tr>\n",
       "  </thead>\n",
       "  <tbody>\n",
       "    <tr>\n",
       "      <td>1</td>\n",
       "      <td>No log</td>\n",
       "      <td>1.737297</td>\n",
       "    </tr>\n",
       "    <tr>\n",
       "      <td>2</td>\n",
       "      <td>No log</td>\n",
       "      <td>1.686268</td>\n",
       "    </tr>\n",
       "    <tr>\n",
       "      <td>3</td>\n",
       "      <td>No log</td>\n",
       "      <td>1.662539</td>\n",
       "    </tr>\n",
       "  </tbody>\n",
       "</table><p>"
      ],
      "text/plain": [
       "<IPython.core.display.HTML object>"
      ]
     },
     "metadata": {},
     "output_type": "display_data"
    },
    {
     "name": "stderr",
     "output_type": "stream",
     "text": [
      "/home/uuz5szh/Desktop/test/code/.venv/lib/python3.10/site-packages/torch/utils/data/dataloader.py:665: UserWarning: 'pin_memory' argument is set as true but no accelerator is found, then device pinned memory won't be used.\n",
      "  warnings.warn(warn_msg)\n",
      "/home/uuz5szh/Desktop/test/code/.venv/lib/python3.10/site-packages/torch/utils/data/dataloader.py:665: UserWarning: 'pin_memory' argument is set as true but no accelerator is found, then device pinned memory won't be used.\n",
      "  warnings.warn(warn_msg)\n"
     ]
    },
    {
     "data": {
      "text/plain": [
       "TrainOutput(global_step=6, training_loss=1.5914270083109539, metrics={'train_runtime': 95.4374, 'train_samples_per_second': 0.629, 'train_steps_per_second': 0.063, 'total_flos': 29536923156480.0, 'train_loss': 1.5914270083109539})"
      ]
     },
     "execution_count": 4,
     "metadata": {},
     "output_type": "execute_result"
    }
   ],
   "source": [
    "\n",
    "training_args = TrainingArguments(\n",
    "    output_dir=\"./checkpoints\",\n",
    "    per_device_train_batch_size=4,\n",
    "    gradient_accumulation_steps=4,\n",
    "    logging_steps=20,\n",
    "    num_train_epochs=3,\n",
    "    learning_rate=2e-4,\n",
    "    fp16=False, \n",
    "    save_strategy=\"epoch\",\n",
    "    eval_strategy=\"epoch\",\n",
    "    save_total_limit=1\n",
    ")\n",
    "\n",
    "trainer = SFTTrainer(\n",
    "    model=model,\n",
    "    args=training_args,\n",
    "    train_dataset=tokenized[\"train\"].select(range(20)),\n",
    "    eval_dataset=tokenized[\"test\"].select(range(5)),\n",
    "    processing_class=tokenizer\n",
    ")\n",
    "\n",
    "trainer.train()"
   ]
  },
  {
   "cell_type": "code",
   "execution_count": null,
   "id": "72cd5193-2e78-4844-a5a2-2d668ae8d6b6",
   "metadata": {},
   "outputs": [
    {
     "name": "stderr",
     "output_type": "stream",
     "text": [
      "Setting `pad_token_id` to `eos_token_id`:32021 for open-end generation.\n",
      "Setting `pad_token_id` to `eos_token_id`:32021 for open-end generation.\n"
     ]
    },
    {
     "name": "stdout",
     "output_type": "stream",
     "text": [
      "### C++ Function\n",
      "int max(int a, int b) { return a > b ? a : b; }\n",
      "\n",
      "### Google Test\n",
      "#include \"gtest/gtest.h\"\n",
      "\n",
      "TEST(MaxTest, PositiveNumbers) {\n",
      "  EXPECT_EQ(2, max(1, 2));\n",
      "}\n",
      "\n",
      "TEST(MaxTest, NegativeNumbers) {\n",
      "  EXPECT_EQ(-1, max(-2, -1));\n",
      "}\n",
      "\n",
      "TEST(MaxTest, Zeroes) {\n",
      "  EXPECT_EQ(0, max(0, 0));\n",
      "}\n",
      "\n",
      "TEST(MaxTest, NegativeAndPositive) {\n",
      "  EXPECT_EQ(3, max(-1, 3));\n",
      "}\n",
      "\n",
      "int main(int argc, char **argv) {\n",
      "  ::testing::InitGoogleTest(&argc, argv);\n",
      "  return RUN_ALL_TESTS();\n",
      "}\n",
      "\n",
      "#################################################\n",
      "### C++ Function\n",
      "\n",
      "#include <iostream>\n",
      "#include <vector>\n",
      "#include <algorithm>\n",
      "\n",
      "class Statistics {\n",
      "public:\n",
      "    Statistics(const std::vector<int>& data) : data_(data) {}\n",
      "\n",
      "    int max() const {\n",
      "        return *std::max_element(data_.begin(), data_.end());\n",
      "    }\n",
      "\n",
      "    int min() const {\n",
      "        return *std::min_element(data_.begin(), data_.end());\n",
      "    }\n",
      "\n",
      "    double average() const {\n",
      "        if (data_.empty()) return 0.0;\n",
      "        double sum = 0;\n",
      "        for (int num : data_) sum += num;\n",
      "        return sum / data_.size();\n",
      "    }\n",
      "\n",
      "    void print() const {\n",
      "        std::cout << \"Max: \" << max() << std::endl;\n",
      "        std::cout << \"Min: \" << min() << std::endl;\n",
      "        std::cout << \"Average: \" << average() << std::endl;\n",
      "    }\n",
      "\n",
      "private:\n",
      "    std::vector<int> data_;\n",
      "};\n",
      "\n",
      "int main() {\n",
      "    std::vector<int> values = {3, 5, 7, 2, 8, 10, 6};\n",
      "    Statistics stats(values);\n",
      "    stats.print();\n",
      "    return 0;\n",
      "}\n",
      "\n",
      "\n",
      "### Google Test\n",
      "#include \"gtest/gtest.h\"\n",
      "\n",
      "TEST(StatisticsTest, Max) {\n",
      "    Statistics stats({3, 5, 7, 2, 8, 10, 6});\n",
      "    EXPECT_EQ(stats.max(), 10);\n",
      "}\n",
      "\n",
      "TEST(StatisticsTest, Min) {\n",
      "    Statistics stats({3, 5, 7, 2, 8, 10, 6});\n",
      "    EXPECT_EQ(stats.min(), 2);\n",
      "}\n",
      "\n",
      "TEST(StatisticsTest, Average) {\n",
      "    Statistics stats({3, 5, 7, 2, 8, 10, 6});\n",
      "    EXPECT_DOUBLE_EQ(stats.average(), 5.166666666666667);\n",
      "}\n",
      "\n",
      "int main(int argc, char **argv) {\n",
      "    ::testing::InitGoogleTest(&argc, argv);\n",
      "    return RUN_ALL_TESTS();\n",
      "}\n",
      "\n"
     ]
    }
   ],
   "source": [
    "def generate(prompt, max_new_tokens=2048):\n",
    "    inputs = tokenizer(prompt, return_tensors=\"pt\").to(model.device)\n",
    "    outputs = model.generate(**inputs, max_new_tokens=max_new_tokens, do_sample=True, temperature=0.7)\n",
    "    return tokenizer.decode(outputs[0], skip_special_tokens=True)\n",
    "example_func1 = \"int max(int a, int b) { return a > b ? a : b; }\"\n",
    "\n",
    "example_func = \"\"\"\n",
    "#include <iostream>\n",
    "#include <vector>\n",
    "#include <algorithm>\n",
    "\n",
    "class Statistics {\n",
    "public:\n",
    "    Statistics(const std::vector<int>& data) : data_(data) {}\n",
    "\n",
    "    int max() const {\n",
    "        return *std::max_element(data_.begin(), data_.end());\n",
    "    }\n",
    "\n",
    "    int min() const {\n",
    "        return *std::min_element(data_.begin(), data_.end());\n",
    "    }\n",
    "\n",
    "    double average() const {\n",
    "        if (data_.empty()) return 0.0;\n",
    "        double sum = 0;\n",
    "        for (int num : data_) sum += num;\n",
    "        return sum / data_.size();\n",
    "    }\n",
    "\n",
    "    void print() const {\n",
    "        std::cout << \"Max: \" << max() << std::endl;\n",
    "        std::cout << \"Min: \" << min() << std::endl;\n",
    "        std::cout << \"Average: \" << average() << std::endl;\n",
    "    }\n",
    "\n",
    "private:\n",
    "    std::vector<int> data_;\n",
    "};\n",
    "\n",
    "int main() {\n",
    "    std::vector<int> values = {3, 5, 7, 2, 8, 10, 6};\n",
    "    Statistics stats(values);\n",
    "    stats.print();\n",
    "    return 0;\n",
    "}\n",
    "\"\"\"\n",
    "\n",
    "prompt = f\"### C++ Function\\n{example_func}\\n\\n### Google Test\\n\"\n",
    "prompt1 = f\"### C++ Function\\n{example_func1}\\n\\n### Google Test\\n\"\n",
    "print(generate(prompt1))\n",
    "print('#################################################')\n",
    "print(generate(prompt))\n",
    "\n"
   ]
  },
  {
   "cell_type": "code",
   "execution_count": 9,
   "id": "7414bf00-5fe3-49f4-9891-f1f2172d9b53",
   "metadata": {},
   "outputs": [],
   "source": [
    "def generate(prompt, max_new_tokens=2048):\n",
    "    inputs = tokenizer(prompt, return_tensors=\"pt\").to(model.device)\n",
    "    outputs = model.generate(**inputs, max_new_tokens=max_new_tokens, do_sample=True, temperature=0.7)\n",
    "    return tokenizer.decode(outputs[0], skip_special_tokens=True)\n",
    "\n",
    "def extract_gtest_only(full_output):\n",
    "\n",
    "    split_keyword = \"### Google Test\"\n",
    "    if split_keyword in full_output:\n",
    "        parts = full_output.split(split_keyword)\n",
    "        if len(parts) > 1:\n",
    "            return parts[1].strip()\n",
    "    return full_output.strip()  \n",
    "\n",
    "def generate_gtest_from_file(input_path, output_path):\n",
    "    with open(input_path, 'r', encoding='utf-8') as f:\n",
    "        cpp_code = f.read()\n",
    "    prompt = f\"### C++ Function\\n{cpp_code}\\n##only need pure gtest code generated\\n### Google Test\\n\"\n",
    "    full_output = generate(prompt)\n",
    "    gtest_code = extract_gtest_only(full_output)\n",
    "    with open(output_path, 'w', encoding='utf-8') as f:\n",
    "        f.write(gtest_code)\n",
    "\n",
    "    print(f\"GTest 代码已生成并写入文件：{output_path}\")\n"
   ]
  },
  {
   "cell_type": "code",
   "execution_count": 10,
   "id": "d3432e34-9751-4194-aafd-5c3be55d14f1",
   "metadata": {},
   "outputs": [
    {
     "name": "stderr",
     "output_type": "stream",
     "text": [
      "Setting `pad_token_id` to `eos_token_id`:32021 for open-end generation.\n"
     ]
    },
    {
     "name": "stdout",
     "output_type": "stream",
     "text": [
      "GTest 代码已生成并写入文件：my_gtest_output.cpp\n"
     ]
    }
   ],
   "source": [
    "generate_gtest_from_file(\"input.cpp\", \"my_gtest_output.cpp\")\n"
   ]
  },
  {
   "cell_type": "code",
   "execution_count": null,
   "id": "b125ecde-af02-40d7-bc44-4792ddcc7f9e",
   "metadata": {},
   "outputs": [],
   "source": []
  }
 ],
 "metadata": {
  "kernelspec": {
   "display_name": "Python 3 (ipykernel)",
   "language": "python",
   "name": "python3"
  },
  "language_info": {
   "codemirror_mode": {
    "name": "ipython",
    "version": 3
   },
   "file_extension": ".py",
   "mimetype": "text/x-python",
   "name": "python",
   "nbconvert_exporter": "python",
   "pygments_lexer": "ipython3",
   "version": "3.10.12"
  }
 },
 "nbformat": 4,
 "nbformat_minor": 5
}
