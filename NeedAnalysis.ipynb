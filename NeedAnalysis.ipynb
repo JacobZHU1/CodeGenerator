{
 "cells": [
  {
   "cell_type": "code",
   "execution_count": null,
   "id": "0142a678-18cf-4776-9211-1f9c881e7e04",
   "metadata": {},
   "outputs": [
    {
     "data": {
      "application/vnd.jupyter.widget-view+json": {
       "model_id": "f32859d510b842ae8a709bc7c808a730",
       "version_major": 2,
       "version_minor": 0
      },
      "text/plain": [
       "Loading checkpoint shards:   0%|          | 0/4 [00:00<?, ?it/s]"
      ]
     },
     "metadata": {},
     "output_type": "display_data"
    }
   ],
   "source": [
    "import torch\n",
    "from transformers import AutoTokenizer, AutoModelForCausalLM\n",
    "\n",
    "model_path = \"/home/uuz5szh/Desktop/test/code/codeGenerator/data/Qwen\"\n",
    "\n",
    "tokenizer = AutoTokenizer.from_pretrained(model_path, trust_remote_code=True)\n",
    "model = AutoModelForCausalLM.from_pretrained(\n",
    "    model_path,\n",
    "    trust_remote_code=True,\n",
    "    torch_dtype=torch.float32\n",
    ").to(\"cpu\")\n",
    "\n",
    "model.eval()\n"
   ]
  },
  {
   "cell_type": "code",
   "execution_count": 2,
   "id": "6898151a-191a-479f-b0be-068ef442d351",
   "metadata": {},
   "outputs": [],
   "source": [
    "from docx import Document\n",
    "from PyPDF2 import PdfReader  # 新增导入\n",
    "\n",
    "def read_input_file(file_path):\n",
    "    if file_path.endswith(\".txt\"):\n",
    "        with open(file_path, \"r\", encoding=\"utf-8\") as f:\n",
    "            return f.read()\n",
    "    elif file_path.endswith(\".docx\"):\n",
    "        doc = Document(file_path)\n",
    "        return \"\\n\".join([p.text for p in doc.paragraphs])\n",
    "    elif file_path.endswith(\".pdf\"):\n",
    "        reader = PdfReader(file_path)\n",
    "        text = \"\"\n",
    "        for page in reader.pages:\n",
    "            text += page.extract_text() + \"\\n\"\n",
    "        return text.strip()\n",
    "    else:\n",
    "        raise ValueError(\"Unsupported file type: please use .txt, .docx or .pdf\")\n"
   ]
  },
  {
   "cell_type": "code",
   "execution_count": 6,
   "id": "8dafc6ef-8c4b-479f-8a1b-ffafb232beae",
   "metadata": {},
   "outputs": [],
   "source": [
    "def generate_technical_doc(user_need_text):\n",
    "    prompt = f\"\"\"\\\n",
    "You are an AI technical writer. Based on the following user request, write a detailed software or technical documentation in markdown format.\n",
    "\n",
    "Each part should include:\n",
    "1. **Function description**\n",
    "2. **Technical details**\n",
    "3. **Input and Output**\n",
    "4. **Original requirement excerpt**\n",
    "\n",
    "# User Request:\n",
    "{user_need_text.strip()}\n",
    "\n",
    "# Documentation:\n",
    "\"\"\"\n",
    "\n",
    "    inputs = tokenizer(prompt, return_tensors=\"pt\")\n",
    "    output = model.generate(\n",
    "        **inputs,\n",
    "        max_new_tokens=1024,\n",
    "        do_sample=True,\n",
    "        top_p=0.9,\n",
    "        temperature=0.7,\n",
    "        eos_token_id=tokenizer.eos_token_id\n",
    "    )\n",
    "\n",
    "    result = tokenizer.decode(output[0], skip_special_tokens=True)\n",
    "    return result.split(\"Technical File：\")[-1].strip()\n"
   ]
  },
  {
   "cell_type": "code",
   "execution_count": 4,
   "id": "c0944e25-33cd-4592-a679-d0f3a88605d0",
   "metadata": {},
   "outputs": [],
   "source": [
    "def save_output(text, output_path):\n",
    "    with open(output_path, \"w\", encoding=\"utf-8\") as f:\n",
    "        f.write(text)\n",
    "    print(f\"Output has been saved to: {output_path}\")\n"
   ]
  },
  {
   "cell_type": "code",
   "execution_count": 7,
   "id": "3de1c9bb-e9a2-4a69-a70d-3184c338ca12",
   "metadata": {},
   "outputs": [
    {
     "name": "stderr",
     "output_type": "stream",
     "text": [
      "Setting `pad_token_id` to `eos_token_id`:32021 for open-end generation.\n"
     ]
    },
    {
     "name": "stdout",
     "output_type": "stream",
     "text": [
      "==== 整理结果预览 ====\n",
      "\n",
      "You are an AI technical writer. Based on the following user request, write a detailed software or technical documentation in markdown format.\n",
      "\n",
      "Each part should include:\n",
      "1. **Function description**\n",
      "2. **Technical details**\n",
      "3. **Input and Output**\n",
      "4. **Original requirement excerpt**\n",
      "\n",
      "# User Request:\n",
      "5.1.3 快速启动模式\n",
      "ICU 需要支持快速启动 STR 模式\n",
      "1)\n",
      "2)\n",
      "3)\n",
      "4)\n",
      "5)\n",
      "此模式下，MCU 休眠，SOC 处于 STR 模式，DRAM 保持上电；\n",
      "可通过 IGN ON 和 CAN 网络信号将主机从 STR 模式唤醒至 TempRun/RUN 模式\n",
      "STR 模式下的主机静态电流<8mA\n",
      "主机从 STR 模式恢复到 TempRun/RUN 模式的时间需小于 5S\n",
      "STR 持续时间可配置标定,默认持续时间为 72 小时，若持续时间为 0，则禁用 STR，若\n",
      "持续时间设置为 255，则表示永久保持 STR 不关闭,支持智能补电的车型 STR 永不关闭。\n",
      "12CVTC-IVI-Func-013: 电源管理\n",
      "6)\n",
      "Version 0.2.4\n",
      "当主机在 STR 模式下的持续时间超时后，若车辆仍处于熄火状态，则主机进入 Seep 模式\n",
      "5.1.4 快速关机模式\n",
      "NA\n",
      "5.2 主机背光联动\n",
      "主机屏背光在电压状态变高时，需要联动调低背光；在电压状态变低时，需要联动调高背\n",
      "光。这个功能由屏幕自己的保护措施来实现。\n",
      "5.3 开机动画\n",
      "\n",
      "IVI 系统冷启动时间：6125 平台<25S\n",
      "6125plus 平台<16s（开机后到显示 Launcher 界面）\n",
      "。\n",
      "首次接通 Battery，ACC ON 时，系统启动后执行开机动画，动画结束后进入工作模式，进\n",
      "入 HOME 界面。\n",
      "\n",
      "开机动画显示时机：\n",
      "系统仅在每次从 Standby 模式到工作模式或 TempRun 模式的过程中，播放开机动画。如\n",
      "果没有进入过睡眠模式，再次从“待机模式”到其他工作模式的过程中不显示开机动画。\n",
      "\n",
      "满\n",
      "Output has been saved to: 整理后的技术文档.txt\n"
     ]
    }
   ],
   "source": [
    "\n",
    "input_path = \"input.txt\"  # 或 \"sample.txt\"\n",
    "output_path = \"整理后的技术文档.txt\"\n",
    "\n",
    "# 运行\n",
    "user_need = read_input_file(input_path)\n",
    "tech_doc = generate_technical_doc(user_need)\n",
    "print(\"==== 整理结果预览 ====\\n\")\n",
    "print(tech_doc[:1000])  # 只预览前1000字符\n",
    "\n",
    "# 保存输出\n",
    "save_output(tech_doc, output_path)\n"
   ]
  },
  {
   "cell_type": "code",
   "execution_count": null,
   "id": "f34ec824-d0c6-4d74-986d-6a2de91e0150",
   "metadata": {},
   "outputs": [],
   "source": []
  }
 ],
 "metadata": {
  "kernelspec": {
   "display_name": "Python 3 (ipykernel)",
   "language": "python",
   "name": "python3"
  },
  "language_info": {
   "codemirror_mode": {
    "name": "ipython",
    "version": 3
   },
   "file_extension": ".py",
   "mimetype": "text/x-python",
   "name": "python",
   "nbconvert_exporter": "python",
   "pygments_lexer": "ipython3",
   "version": "3.10.12"
  }
 },
 "nbformat": 4,
 "nbformat_minor": 5
}
