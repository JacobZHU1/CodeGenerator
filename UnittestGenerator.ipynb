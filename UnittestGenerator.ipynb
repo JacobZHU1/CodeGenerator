{
 "cells": [
  {
   "cell_type": "code",
   "execution_count": 4,
   "id": "e1f880e1-4c36-49d3-a464-81460b0d1f83",
   "metadata": {},
   "outputs": [],
   "source": [
    "from datasets import load_dataset\n",
    "\n",
    "dataset = load_dataset('json', data_files='/home/uuz5szh/Desktop/test/code/codeGenerator/data/codetotest_train.jsonl')\n",
    "\n",
    "dataset = dataset['train'].train_test_split(test_size=0.1)\n"
   ]
  },
  {
   "cell_type": "code",
   "execution_count": 5,
   "id": "c73a6373-42b5-401c-8020-394066993cfd",
   "metadata": {},
   "outputs": [],
   "source": [
    "def formatting(example):\n",
    "    return f\"\"\"### C++ Function\n",
    "{example['source']}\n",
    "\n",
    "### Google Test\n",
    "{example['target']}\"\"\"\n"
   ]
  },
  {
   "cell_type": "code",
   "execution_count": null,
   "id": "2dc4b271-26e1-404a-874b-a8390cf0c64f",
   "metadata": {},
   "outputs": [],
   "source": [
    "from transformers import AutoTokenizer, AutoModelForCausalLM, TrainingArguments, Trainer\n",
    "from peft import prepare_model_for_kbit_training, LoraConfig, get_peft_model\n",
    "from trl import SFTTrainer\n",
    "\n",
    "model_name =  \"/home/uuz5szh/Desktop/test/code/codeGenerator/data/coder-instruct\"\n",
    "def save_output(text, output_path):\n",
    "tokenizer = AutoTokenizer.from_pretrained(model_name, trust_remote_code=True, local_files_only=True)\n",
    "tokenizer.pad_token = tokenizer.eos_token \n",
    "\n",
    "model = AutoModelForCausalLM.from_pretrained(\n",
    "    model_name,\n",
    "    trust_remote_code=True,\n",
    "    device_map=\"cpu\",\n",
    "    local_files_only=True \n",
    ")\n",
    "\n",
    "lora_config = LoraConfig(\n",
    "    r=8,\n",
    "    lora_alpha=16,\n",
    "    target_modules=[\"q_proj\", \"v_proj\"],\n",
    "    lora_dropout=0.05,\n",
    "    bias=\"none\",\n",
    "    task_type=\"CAUSAL_LM\"\n",
    ")\n",
    "model = get_peft_model(model, lora_config)\n",
    "\n",
    "def preprocess(example):\n",
    "    prompt = formatting(example)\n",
    "    return tokenizer(prompt, truncation=True, padding='max_length', max_length=64)\n",
    "\n",
    "tokenized = dataset.map(preprocess, remove_columns=dataset[\"train\"].column_names)\n"
   ]
  },
  {
   "cell_type": "code",
   "execution_count": null,
   "id": "4f1504b3-5690-4782-8e31-42738a201b7b",
   "metadata": {},
   "outputs": [
    {
     "data": {
      "application/vnd.jupyter.widget-view+json": {
       "model_id": "1422f3ef592c441d9cddc9fc09a13791",
       "version_major": 2,
       "version_minor": 0
      },
      "text/plain": [
       "Truncating train dataset:   0%|          | 0/200 [00:00<?, ? examples/s]"
      ]
     },
     "metadata": {},
     "output_type": "display_data"
    },
    {
     "data": {
      "application/vnd.jupyter.widget-view+json": {
       "model_id": "69c364f4ac0a4243b0357e43da3e1337",
       "version_major": 2,
       "version_minor": 0
      },
      "text/plain": [
       "Truncating eval dataset:   0%|          | 0/50 [00:00<?, ? examples/s]"
      ]
     },
     "metadata": {},
     "output_type": "display_data"
    },
    {
     "name": "stderr",
     "output_type": "stream",
     "text": [
      "No label_names provided for model class `PeftModelForCausalLM`. Since `PeftModel` hides base models input arguments, if label_names is not given, label_names can't be set automatically within `Trainer`. Note that empty label_names list will be used instead.\n",
      "/home/uuz5szh/Desktop/test/code/.venv/lib/python3.10/site-packages/torch/utils/data/dataloader.py:665: UserWarning: 'pin_memory' argument is set as true but no accelerator is found, then device pinned memory won't be used.\n",
      "  warnings.warn(warn_msg)\n"
     ]
    }
   ],
   "source": [
    "\n",
    "training_args = TrainingArguments(\n",
    "    output_dir=\"./checkpoints\",\n",
    "    per_device_train_batch_size=4,\n",
    "    gradient_accumulation_steps=4,\n",
    "    logging_steps=20,\n",
    "    num_train_epochs=3,\n",
    "    learning_rate=2e-4,\n",
    "    fp16=False, \n",
    "    save_strategy=\"epoch\",\n",
    "    eval_strategy=\"epoch\",\n",
    "    save_total_limit=1\n",
    ")\n",
    "\n",
    "trainer = SFTTrainer(\n",
    "    model=model,\n",
    "    args=training_args,\n",
    "    train_dataset=tokenized[\"train\"].select(range(20)),\n",
    "    eval_dataset=tokenized[\"test\"].select(range(5)),\n",
    "    processing_class=tokenizer\n",
    ")\n",
    "\n",
    "# for i in range(0, len(tokenized[\"train\"]), 100):\n",
    "#     sub_train = tokenized[\"train\"].select(range(i, min(i+100, len(tokenized[\"train\"]))))\n",
    "#     trainer.train_dataset = sub_train\n",
    "#     trainer.train()\n",
    "trainer.train()"
   ]
  },
  {
   "cell_type": "code",
   "execution_count": null,
   "id": "efd5f9e4-1d9f-429c-a16f-3c95d46a3755",
   "metadata": {},
   "outputs": [],
   "source": [
    "def generate(prompt, max_new_tokens=2048):\n",
    "    inputs = tokenizer(prompt, return_tensors=\"pt\").to(model.device)\n",
    "    outputs = model.generate(**inputs, max_new_tokens=max_new_tokens, do_sample=True, temperature=0.7)\n",
    "    return tokenizer.decode(outputs[0], skip_special_tokens=True)\n",
    "\n",
    "def extract_gtest_only(full_output):\n",
    "    split_keyword = \"### Google Test\"\n",
    "    if split_keyword in full_output:\n",
    "        parts = full_output.split(split_keyword)\n",
    "        if len(parts) > 1:\n",
    "            return parts[1].strip()\n",
    "    return full_output.strip()  \n",
    "\n",
    "def generate_gtest_from_file(input_path, output_path):\n",
    "    with open(input_path, 'r', encoding='utf-8') as f:\n",
    "        cpp_code = f.read()\n",
    "    prompt = f\"### C++ Function\\n{cpp_code}\\n##only need pure gtest code generated\\n### Google Test\\n\"\n",
    "    full_output = generate(prompt)\n",
    "    gtest_code = extract_gtest_only(full_output)\n",
    "    with open(output_path, 'w', encoding='utf-8') as f:\n",
    "        f.write(gtest_code)\n",
    "\n",
    "    print(f\"GTest code has been written to：{output_path}\")\n"
   ]
  },
  {
   "cell_type": "code",
   "execution_count": 16,
   "id": "d3432e34-9751-4194-aafd-5c3be55d14f1",
   "metadata": {},
   "outputs": [
    {
     "name": "stderr",
     "output_type": "stream",
     "text": [
      "Setting `pad_token_id` to `eos_token_id`:32021 for open-end generation.\n"
     ]
    },
    {
     "name": "stdout",
     "output_type": "stream",
     "text": [
      "GTest code has been written to：my_gtest_output.cpp\n"
     ]
    }
   ],
   "source": [
    "generate_gtest_from_file(\"input.cpp\", \"my_gtest_output.cpp\")\n"
   ]
  },
  {
   "cell_type": "code",
   "execution_count": null,
   "id": "b125ecde-af02-40d7-bc44-4792ddcc7f9e",
   "metadata": {},
   "outputs": [],
   "source": []
  }
 ],
 "metadata": {
  "kernelspec": {
   "display_name": "Python 3 (ipykernel)",
   "language": "python",
   "name": "python3"
  },
  "language_info": {
   "codemirror_mode": {
    "name": "ipython",
    "version": 3
   },
   "file_extension": ".py",
   "mimetype": "text/x-python",
   "name": "python",
   "nbconvert_exporter": "python",
   "pygments_lexer": "ipython3",
   "version": "3.10.12"
  }
 },
 "nbformat": 4,
 "nbformat_minor": 5
}
